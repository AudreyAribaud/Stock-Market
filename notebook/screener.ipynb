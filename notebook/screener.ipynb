{
 "cells": [
  {
   "cell_type": "markdown",
   "id": "756ec155",
   "metadata": {},
   "source": [
    "# Sock Market Screener"
   ]
  },
  {
   "cell_type": "code",
   "execution_count": 3,
   "id": "958dfe84",
   "metadata": {},
   "outputs": [
    {
     "name": "stdout",
     "output_type": "stream",
     "text": [
      "(579,           ticker   name    close    volume  relative_volume_10d_calc\n",
      "0    NASDAQ:HOOD   HOOD  104.850  35636476                  0.753353\n",
      "1    NASDAQ:SMCI   SMCI   54.470  34307948                  1.012580\n",
      "2   NASDAQ:CMCSA  CMCSA   33.680  32924574                  1.950708\n",
      "3     NASDAQ:CSX    CSX   35.760  31707887                  1.409535\n",
      "4    NASDAQ:GOOG   GOOG  194.080  31101570                  1.182955\n",
      "5    NASDAQ:AMZN   AMZN  231.440  28711843                  0.756915\n",
      "6    NASDAQ:ASTS   ASTS   54.335  25294530                  2.125479\n",
      "7     NASDAQ:TRI    TRI  203.450  23377477                 11.587387\n",
      "8      NASDAQ:MU     MU  111.260  16372323                  0.666164\n",
      "9    NASDAQ:RKLB   RKLB   47.430  14517933                  0.544799\n",
      "10   NASDAQ:CSCO   CSCO   68.690  11590008                  0.759631\n",
      "11   NASDAQ:CRWV   CRWV  115.620  10297253                  0.892544\n",
      "12   NASDAQ:MRVL   MRVL   74.210   9830297                  0.673600\n",
      "13    NASDAQ:KDP    KDP   33.270   9825506                  0.950840\n",
      "14   NASDAQ:OKTA   OKTA  101.100   9545770                  3.250337\n",
      "15   NASDAQ:GLXY   GLXY   30.590   9383698                  0.777411\n",
      "16   NASDAQ:ENPH   ENPH   35.410   9321574                  0.893968\n",
      "17   NASDAQ:LRCX   LRCX   96.960   8914433                  0.858389\n",
      "18    NASDAQ:KHC    KHC   28.680   8521859                  0.383180\n",
      "19   NASDAQ:MCHP   MCHP   69.210   8354555                  1.006527)\n"
     ]
    }
   ],
   "source": [
    "from tradingview_screener import Query, col\n",
    "import pandas as pd\n",
    "\n",
    "tickers = (Query()\n",
    " .select('name', 'close', 'volume', 'relative_volume_10d_calc')\n",
    " .where(\n",
    "     col('type') == 'stock',\n",
    "     col('exchange') == 'NASDAQ',\n",
    "     col('close').between(25, 250),\n",
    "     col('market_cap_basic') > 1_000_000_000,\n",
    "     \n",
    " )\n",
    " .order_by('volume', ascending=False)\n",
    " .offset(5)\n",
    " .limit(25)\n",
    " .get_scanner_data())\n",
    "\n",
    "print(tickers) \n",
    "\n"
   ]
  },
  {
   "cell_type": "code",
   "execution_count": null,
   "id": "f44d8963",
   "metadata": {},
   "outputs": [],
   "source": [
    "from tradingview_screener import Query, col\n",
    "import pandas as pd\n",
    "\n",
    "tickers = (Query()\n",
    " .select('name', 'close', 'volume', 'relative_volume_10d_calc')\n",
    " .where(\n",
    "     col('type') == 'stock',\n",
    "     col('exchange') == 'NASDAQ',\n",
    "     col('close').between(25, 250),\n",
    "     col('market_cap_basic') > 1_000_000_000,\n",
    "     \n",
    " )\n",
    " .order_by('volume', ascending=False)\n",
    " .offset(5)\n",
    " .limit(25)\n",
    " .get_scanner_data())\n",
    "\n",
    "print(tickers) \n",
    "\n"
   ]
  },
  {
   "cell_type": "code",
   "execution_count": null,
   "id": "6ade4e82",
   "metadata": {},
   "outputs": [],
   "source": []
  }
 ],
 "metadata": {
  "kernelspec": {
   "display_name": "trading",
   "language": "python",
   "name": "python3"
  },
  "language_info": {
   "codemirror_mode": {
    "name": "ipython",
    "version": 3
   },
   "file_extension": ".py",
   "mimetype": "text/x-python",
   "name": "python",
   "nbconvert_exporter": "python",
   "pygments_lexer": "ipython3",
   "version": "3.13.5"
  }
 },
 "nbformat": 4,
 "nbformat_minor": 5
}
