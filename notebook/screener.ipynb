{
 "cells": [
  {
   "cell_type": "markdown",
   "id": "756ec155",
   "metadata": {},
   "source": [
    "# Sock Market Screener"
   ]
  },
  {
   "cell_type": "markdown",
   "id": "ac2f06e8",
   "metadata": {},
   "source": [
    "1) pré-sélection de la liste d'actions\n",
    "\n",
    "2) test de la strat sur la liste d'actions\n",
    "\n",
    "3) Affiner la sélection d'actions\n",
    "\n",
    "4) Afficher les alertes en temps réel sur les actions"
   ]
  },
  {
   "cell_type": "code",
   "execution_count": 1,
   "id": "79f49152",
   "metadata": {},
   "outputs": [],
   "source": [
    "# Imports\n",
    "from tradingview_screener import Query, col\n",
    "import pandas as pd\n",
    "import numpy as np\n",
    "import yfinance as yf\n",
    "import pandas_ta as ta  # Technical Analysis Indicators\n",
    "import matplotlib.pyplot as plt\n",
    "from datetime import datetime, timedelta\n",
    "import os\n",
    "import requests\n",
    "from io import StringIO"
   ]
  },
  {
   "cell_type": "markdown",
   "id": "508f805c",
   "metadata": {},
   "source": [
    "# 1) pré-sélection de la liste d'actions\n",
    "\n",
    "Critères de sélection des actions :\n",
    "- marché Nasdaq et NYSE\n",
    "- price 25 to 250 USD\n",
    "- market cap supérieur ou égal à 1B USD\n",
    "- Avg Volume 30D supérieur à 1M\n",
    "- Volume supérieur à 1M\n",
    "- Change supérieur à 0%\n",
    "- Rel Vol at Time supérieur à 1.2\n",
    "- SMA(50) inférieur au prix\n",
    "- SMA(100) inférieur au prix\n",
    "- SAM(200) inférieur au prix\n",
    "- VWAP 5m inférieur ou égal au prix\n",
    "- EMA(8) 5m inférieur ou égal au prix"
   ]
  },
  {
   "cell_type": "code",
   "execution_count": 12,
   "id": "6ade4e82",
   "metadata": {},
   "outputs": [
    {
     "name": "stdout",
     "output_type": "stream",
     "text": [
      "['AMD', 'RF', 'CCL', 'CSX', 'TEM', 'BE', 'NKE', 'USB', 'ENB', 'LITE', 'TFC', 'CRSP', 'TPR', 'LMND', 'PGY', 'LEN', 'RPRX', 'LQDA', 'DHI', 'RTX', 'Z', 'SMMT', 'BCE', 'BX', 'OUST', 'LVS', 'AS', 'INSM', 'PFGC', 'FL', 'HGV', 'FYBR', 'SKX', 'NXPI', 'DG', 'BLDR', 'EL', 'DLTR', 'HAS', 'MTG', 'INCY', 'COLB', 'HOG', 'PHM', 'IONS', 'ALLY', 'REZI', 'AMTM', 'JEF', 'AAP', 'ALK', 'CNM', 'ST', 'PSTG', 'TD', 'RY', 'WSM', 'ASO', 'TOL', 'PII', 'STT', 'SLM', 'TMHC', 'TXT', 'NEGG', 'PARR', 'XYL', 'KBH', 'BNS', 'RBA', 'PNW', 'MTH', 'FERG']\n",
      "Il y a 73 actions extraites\n"
     ]
    }
   ],
   "source": [
    "#TradingView screener\n",
    "\n",
    "# Requête choix des actions long\n",
    "tickers = (\n",
    "    Query()\n",
    "    .select('name', 'close', 'volume', 'relative_volume_10d_calc')\n",
    "    .where(\n",
    "        col('type') == 'stock',\n",
    "        col('exchange').isin(['NASDAQ', 'NYSE']),\n",
    "        col('close').between(25, 250),\n",
    "        col('market_cap_basic') >= 1_000_000_000,\n",
    "        col('average_volume_30d_calc') > 1_000_000,\n",
    "        col('volume') > 1_000_000,\n",
    "        col('change') > 0,\n",
    "        col('relative_volume') > 1.2,\n",
    "        col('SMA50') < col('close'),\n",
    "        col('SMA100') < col('close'),\n",
    "        col('SMA200') < col('close'),\n",
    "        #les 2 dernières conditions ne sont pas dispos en 5m avec l'API\n",
    "    )\n",
    "    .order_by('volume', ascending=False)\n",
    "    .limit(3000)\n",
    "    .get_scanner_data()\n",
    ")\n",
    "\n",
    "# Affichage\n",
    "#print(tickers)\n",
    "#tickers est au format tuple\n",
    "\n",
    "# Extraction du DataFrame depuis le tuple\n",
    "df = tickers[1]\n",
    "\n",
    "# Extraction de la colonne 'name' sous forme de liste\n",
    "tickers_list = df['name'].tolist()\n",
    "\n",
    "# Affichage\n",
    "print(tickers_list)\n",
    "\n",
    "print(\"Il y a\",len(tickers_list), \"actions extraites\" )\n"
   ]
  },
  {
   "cell_type": "code",
   "execution_count": 8,
   "id": "8cf3c7df",
   "metadata": {},
   "outputs": [
    {
     "name": "stdout",
     "output_type": "stream",
     "text": [
      "  ticker\n",
      "0    AMD\n",
      "1     RF\n",
      "2   OUST\n",
      "3    HGV\n",
      "4   INCY\n",
      "5   AMTM\n",
      "6    WSM\n",
      "Il y a 7 actions sélectionnées pour tester la stratégie\n"
     ]
    }
   ],
   "source": [
    "#Rajout des 2 dernières conditions avec yahoo finance\n",
    "\n",
    "results = []\n",
    "\n",
    "for symbol in tickers_list:\n",
    "    try:\n",
    "        ticker = yf.Ticker(symbol)\n",
    "        info = ticker.info\n",
    "        price = info.get('currentPrice')\n",
    "        vol = info.get('volume', 0)\n",
    "\n",
    "        # Données intraday 5m pour VWAP et EMA8\n",
    "        intraday = ticker.history(period='1d', interval='5m')\n",
    "        if len(intraday) < 8: continue\n",
    "\n",
    "        vwap = (intraday['Close'] * intraday['Volume']).cumsum() / intraday['Volume'].cumsum()\n",
    "        vwap_last = vwap.iloc[-1]\n",
    "        ema8 = intraday['Close'].ewm(span=8, adjust=False).mean().iloc[-1]\n",
    "\n",
    "        if not (vwap_last <= price and ema8 <= price): continue\n",
    "\n",
    "        results.append({\n",
    "            'ticker': symbol,\n",
    "        })\n",
    "\n",
    "    except Exception:\n",
    "        continue\n",
    "\n",
    "df = pd.DataFrame(results)\n",
    "print(df)\n",
    "\n",
    "print(\"Il y a\",len(df), \"actions sélectionnées pour tester la stratégie\" )\n"
   ]
  },
  {
   "cell_type": "code",
   "execution_count": 13,
   "id": "3bc36d44",
   "metadata": {},
   "outputs": [
    {
     "name": "stdout",
     "output_type": "stream",
     "text": [
      "   ticker\n",
      "0     AMD\n",
      "1      RF\n",
      "2     CCL\n",
      "3     CSX\n",
      "4     NKE\n",
      "..    ...\n",
      "61    BNS\n",
      "62    RBA\n",
      "63    PNW\n",
      "64    MTH\n",
      "65   FERG\n",
      "\n",
      "[66 rows x 1 columns]\n",
      "Il y a 66 actions sélectionnées pour tester la stratégie\n"
     ]
    }
   ],
   "source": [
    "#Rajout de la vwap sans ema8\n",
    "\n",
    "results = []\n",
    "\n",
    "for symbol in tickers_list:\n",
    "    try:\n",
    "        ticker = yf.Ticker(symbol)\n",
    "        info = ticker.info\n",
    "        price = info.get('currentPrice')\n",
    "        vol = info.get('volume', 0)\n",
    "\n",
    "        # Données intraday 5m pour VWAP et EMA8\n",
    "        intraday = ticker.history(period='1d', interval='5m')\n",
    "\n",
    "        vwap = (intraday['Close'] * intraday['Volume']).cumsum() / intraday['Volume'].cumsum()\n",
    "        vwap_last = vwap.iloc[-1]\n",
    "\n",
    "        if not (vwap_last <= price): continue\n",
    "        results.append({\n",
    "            'ticker': symbol,\n",
    "        })\n",
    "\n",
    "    except Exception:\n",
    "        continue\n",
    "\n",
    "df = pd.DataFrame(results)\n",
    "print(df)\n",
    "\n",
    "print(\"Il y a\",len(df), \"actions sélectionnées pour tester la stratégie\" )\n"
   ]
  },
  {
   "cell_type": "markdown",
   "id": "e0ba8094",
   "metadata": {},
   "source": [
    "# 2) test de la strat sur la liste d'actions"
   ]
  },
  {
   "cell_type": "code",
   "execution_count": null,
   "id": "583a580b",
   "metadata": {},
   "outputs": [],
   "source": []
  }
 ],
 "metadata": {
  "kernelspec": {
   "display_name": "trading",
   "language": "python",
   "name": "python3"
  },
  "language_info": {
   "codemirror_mode": {
    "name": "ipython",
    "version": 3
   },
   "file_extension": ".py",
   "mimetype": "text/x-python",
   "name": "python",
   "nbconvert_exporter": "python",
   "pygments_lexer": "ipython3",
   "version": "3.13.5"
  }
 },
 "nbformat": 4,
 "nbformat_minor": 5
}
