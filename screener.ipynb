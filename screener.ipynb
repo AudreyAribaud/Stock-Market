{
 "cells": [
  {
   "cell_type": "markdown",
   "id": "756ec155",
   "metadata": {},
   "source": [
    "# Sock Market Screener"
   ]
  },
  {
   "cell_type": "code",
   "execution_count": 1,
   "id": "f85afe3c",
   "metadata": {},
   "outputs": [
    {
     "name": "stdout",
     "output_type": "stream",
     "text": [
      "(189,           ticker   name   close   volume  relative_volume_10d_calc\n",
      "0    NASDAQ:CSCO   CSCO  68.565  2107947                  0.138159\n",
      "1    NASDAQ:LRCX   LRCX  96.700  2047108                  0.197120\n",
      "2   NASDAQ:LBRDK  LBRDK  71.840  1990186                  1.008235\n",
      "3     NASDAQ:TEM    TEM  64.180  1981275                  0.208857\n",
      "4    NASDAQ:MCHP   MCHP  68.070  1789743                  0.215622\n",
      "5      NASDAQ:ON     ON  56.130  1613913                  0.178664\n",
      "6    NASDAQ:NBIS   NBIS  51.840  1578017                  0.123425\n",
      "7    NASDAQ:PYPL   PYPL  78.385  1480236                  0.138999\n",
      "8    NASDAQ:TSCO   TSCO  59.040  1472112                  0.218578\n",
      "9     NASDAQ:TTD    TTD  84.290  1424691                  0.060470\n",
      "10   NASDAQ:AKAM   AKAM  81.140  1386034                  1.175056\n",
      "11   NASDAQ:PRCT   PRCT  53.505  1288104                  1.279838\n",
      "12   NASDAQ:IBKR   IBKR  65.115  1149577                  0.163566\n",
      "13   NASDAQ:NDAQ   NDAQ  94.210  1143955                  0.310809\n",
      "14   NASDAQ:ORLY   ORLY  97.680  1119217                  0.231950\n",
      "15    NASDAQ:WDC    WDC  69.290  1070026                  0.189281\n",
      "16   NASDAQ:EBAY   EBAY  82.825   952521                  0.217530\n",
      "17    NASDAQ:UAL    UAL  90.040   945948                  0.098735\n",
      "18   NASDAQ:UPST   UPST  82.400   919637                  0.174855\n",
      "19   NASDAQ:TBBK   TBBK  63.240   782499                  0.842079)\n"
     ]
    }
   ],
   "source": [
    "from tradingview_screener import Query, col\n",
    "import pandas as pd\n",
    "\n",
    "tickers = (Query()\n",
    " .select('name', 'close', 'volume', 'relative_volume_10d_calc')\n",
    " .where(\n",
    "     col('type') == 'stock',\n",
    "     col('exchange') == 'NASDAQ',\n",
    "     col('close').between(50, 100),\n",
    "     col('market_cap_basic') > 1_000_000_000,\n",
    "     \n",
    " )\n",
    " .order_by('volume', ascending=False)\n",
    " .offset(5)\n",
    " .limit(25)\n",
    " .get_scanner_data())\n",
    "\n",
    "print(tickers) \n"
   ]
  },
  {
   "cell_type": "code",
   "execution_count": 2,
   "id": "958dfe84",
   "metadata": {},
   "outputs": [
    {
     "name": "stdout",
     "output_type": "stream",
     "text": [
      "(576,           ticker   name     close    volume  relative_volume_10d_calc\n",
      "0    NASDAQ:AAPL   AAPL  214.4970  13678347                  0.299814\n",
      "1   NASDAQ:CMCSA  CMCSA   33.5593  13255700                  0.785371\n",
      "2    NASDAQ:ASTS   ASTS   55.0306  12831279                  1.078201\n",
      "3    NASDAQ:GOOG   GOOG  194.1300  12411415                  0.472070\n",
      "4     NASDAQ:CSX    CSX   35.7650  10549428                  0.468962\n",
      "5    NASDAQ:SMCI   SMCI   53.3750  10185173                  0.300610\n",
      "6    NASDAQ:AMZN   AMZN  231.7400   9255680                  0.244002\n",
      "7      NASDAQ:MU     MU  110.8800   6609688                  0.268936\n",
      "8    NASDAQ:RKLB   RKLB   46.9000   5475410                  0.205470\n",
      "9    NASDAQ:CRWV   CRWV  115.0724   4805717                  0.416549\n",
      "10   NASDAQ:PNFP   PNFP   91.6000   4456425                  3.689805\n",
      "11   NASDAQ:GLXY   GLXY   29.5300   4324496                  0.358271\n",
      "12   NASDAQ:MRVL   MRVL   73.6853   3411898                  0.233793\n",
      "13   NASDAQ:GILD   GILD  115.7400   3031735                  0.610106\n",
      "14   NASDAQ:ENPH   ENPH   35.3900   2787116                  0.267293\n",
      "15    NASDAQ:KHC    KHC   28.4400   2683842                  0.120677\n",
      "16   NASDAQ:SBUX   SBUX   92.9965   2620932                  0.334997\n",
      "17   NASDAQ:GNTX   GNTX   26.9400   2437102                  0.886023\n",
      "18   NASDAQ:CSCO   CSCO   68.6150   2434821                  0.159583\n",
      "19   NASDAQ:OKTA   OKTA  100.9700   2426991                  0.826391)\n"
     ]
    }
   ],
   "source": [
    "from tradingview_screener import Query, col\n",
    "import pandas as pd\n",
    "\n",
    "tickers = (Query()\n",
    " .select('name', 'close', 'volume', 'relative_volume_10d_calc')\n",
    " .where(\n",
    "     col('type') == 'stock',\n",
    "     col('exchange') == 'NASDAQ',\n",
    "     col('close').between(25, 250),\n",
    "     col('market_cap_basic') > 1_000_000_000,\n",
    "     \n",
    " )\n",
    " .order_by('volume', ascending=False)\n",
    " .offset(5)\n",
    " .limit(25)\n",
    " .get_scanner_data())\n",
    "\n",
    "print(tickers) \n",
    "\n"
   ]
  },
  {
   "cell_type": "code",
   "execution_count": null,
   "id": "f44d8963",
   "metadata": {},
   "outputs": [],
   "source": []
  },
  {
   "cell_type": "code",
   "execution_count": null,
   "id": "6ade4e82",
   "metadata": {},
   "outputs": [],
   "source": []
  }
 ],
 "metadata": {
  "kernelspec": {
   "display_name": "trading",
   "language": "python",
   "name": "python3"
  },
  "language_info": {
   "codemirror_mode": {
    "name": "ipython",
    "version": 3
   },
   "file_extension": ".py",
   "mimetype": "text/x-python",
   "name": "python",
   "nbconvert_exporter": "python",
   "pygments_lexer": "ipython3",
   "version": "3.13.5"
  }
 },
 "nbformat": 4,
 "nbformat_minor": 5
}
